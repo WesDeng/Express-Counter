{
 "cells": [
  {
   "cell_type": "code",
   "execution_count": 2,
   "metadata": {},
   "outputs": [],
   "source": [
    "#import picamera     \n",
    "#import pygame as pg \n",
    "import os           \n",
    "\n",
    "#from google.cloud import vision  #gcp vision library\n",
    "from time import sleep\n",
    "#from adafruit_crickit import crickit\n",
    "import time\n",
    "import signal\n",
    "import sys\n",
    "import re\n",
    "\n",
    "import random\n",
    "from pydub import AudioSegment"
   ]
  },
  {
   "cell_type": "code",
   "execution_count": 3,
   "metadata": {},
   "outputs": [],
   "source": [
    "os.environ[\"GOOGLE_APPLICATION_CREDENTIALS\"]=\"../Downloads/DET-2019-Wesley.json\"\n",
    "#client = vision.ImageAnnotatorClient()\n",
    "image = 'image.jpg'"
   ]
  },
  {
   "cell_type": "code",
   "execution_count": 1,
   "metadata": {},
   "outputs": [],
   "source": [
    "# Special beats\n",
    "def blank(s):\n",
    "    # Create special sound clips.\n",
    "    return AudioSegment.silent(duration= s*1000)"
   ]
  },
  {
   "cell_type": "code",
   "execution_count": null,
   "metadata": {},
   "outputs": [],
   "source": [
    "# Global list for the final results.\n",
    "selected_song = []"
   ]
  },
  {
   "cell_type": "code",
   "execution_count": 5,
   "metadata": {},
   "outputs": [],
   "source": [
    "# Pre process. \n",
    "Hen = blank(10) + AudioSegment.from_wav(\"Hen.wav\")[:5000]\n",
    "Clock = blank(2) + (AudioSegment.from_wav(\"Clock.wav\")[2000:9000]-5)\n",
    "Jazz = blank(1.5) + (AudioSegment.from_wav(\"Jazz.wav\")[:5000]-6)\n",
    "Toilet = blank(5) + AudioSegment.from_wav(\"Toilet.wav\")[:10000]\n",
    "Sheep = (AudioSegment.from_wav(\"Sheep.wav\")[:5000] + 5)\n",
    "Drip = AudioSegment.from_wav(\"Dripping.wav\")[:10000] + 6\n",
    "Baby = blank(6) + AudioSegment.from_wav(\"Baby.wav\")[:4000]"
   ]
  },
  {
   "cell_type": "code",
   "execution_count": 6,
   "metadata": {},
   "outputs": [
    {
     "data": {
      "text/plain": [
       "<_io.BufferedRandom name='01.wav'>"
      ]
     },
     "execution_count": 6,
     "metadata": {},
     "output_type": "execute_result"
    }
   ],
   "source": [
    "f1 = Hen.overlay(Clock)\n",
    "f1.export(\"01.wav\", format = 'wav')"
   ]
  },
  {
   "cell_type": "code",
   "execution_count": 7,
   "metadata": {},
   "outputs": [
    {
     "data": {
      "text/plain": [
       "<_io.BufferedRandom name='02.wav'>"
      ]
     },
     "execution_count": 7,
     "metadata": {},
     "output_type": "execute_result"
    }
   ],
   "source": [
    "f2 = f1.overlay(Drip)\n",
    "f2.export(\"02.wav\", format = 'wav')"
   ]
  },
  {
   "cell_type": "code",
   "execution_count": 8,
   "metadata": {},
   "outputs": [
    {
     "data": {
      "text/plain": [
       "<_io.BufferedRandom name='03.wav'>"
      ]
     },
     "execution_count": 8,
     "metadata": {},
     "output_type": "execute_result"
    }
   ],
   "source": [
    "f3 = Toilet.overlay(f2)\n",
    "f3.export(\"03.wav\", format = 'wav')"
   ]
  },
  {
   "cell_type": "code",
   "execution_count": 9,
   "metadata": {},
   "outputs": [
    {
     "data": {
      "text/plain": [
       "<_io.BufferedRandom name='04.wav'>"
      ]
     },
     "execution_count": 9,
     "metadata": {},
     "output_type": "execute_result"
    }
   ],
   "source": [
    "f4 = f3.overlay(Sheep)\n",
    "f4.export(\"04.wav\", format = 'wav')"
   ]
  },
  {
   "cell_type": "code",
   "execution_count": 10,
   "metadata": {},
   "outputs": [
    {
     "data": {
      "text/plain": [
       "<_io.BufferedRandom name='05.wav'>"
      ]
     },
     "execution_count": 10,
     "metadata": {},
     "output_type": "execute_result"
    }
   ],
   "source": [
    "f5 = f4.overlay(Jazz)\n",
    "f5.export(\"05.wav\", format = 'wav')"
   ]
  },
  {
   "cell_type": "code",
   "execution_count": 11,
   "metadata": {},
   "outputs": [
    {
     "data": {
      "text/plain": [
       "<_io.BufferedRandom name='06.wav'>"
      ]
     },
     "execution_count": 11,
     "metadata": {},
     "output_type": "execute_result"
    }
   ],
   "source": [
    "f6 = f5.overlay(Baby)\n",
    "f6.export(\"06.wav\", format = 'wav')"
   ]
  },
  {
   "cell_type": "code",
   "execution_count": null,
   "metadata": {},
   "outputs": [],
   "source": [
    "def get_first_five()"
   ]
  },
  {
   "cell_type": "code",
   "execution_count": 13,
   "metadata": {},
   "outputs": [],
   "source": [
    "def takephoto(camera):\n",
    "    # Credit DETClass5.py\n",
    "    camera.start_preview()\n",
    "    sleep(1.5) # Need to be adjust.\n",
    "    camera.capture('image.jpg')\n",
    "    camera.stop_preview()"
   ]
  },
  {
   "cell_type": "code",
   "execution_count": 14,
   "metadata": {},
   "outputs": [],
   "source": [
    "def get_string(image):\n",
    "    # Get the string from image we took.\n",
    "    response = client.label_detection(image = image)\n",
    "    labels = response.label_annotations\n",
    "    label_test = \"\"\n",
    "    \n",
    "    for label in labels:\n",
    "        label_text += ''.join([label.description, \" \"])\n",
    "        \n",
    "    if label_text:\n",
    "        print('image_labeling(): {}'.format(label_text))\n",
    "        return label_text\n",
    "    else:\n",
    "        print('image_labeling(): No Label Descriptions')"
   ]
  },
  {
   "cell_type": "code",
   "execution_count": null,
   "metadata": {},
   "outputs": [],
   "source": [
    "def pick_sound_by_item(label_text):\n",
    "    # Pick out the audio depending on the item key words.\n",
    "    for item in item_sound_lib:\n",
    "        if re.search(item, label_text, re.IGNORECASE):\n",
    "            return item_sound_lib[item]\n",
    "\n",
    "def pick_sound_by_attri(label_text):\n",
    "    # Pick out the audio depending on the attribute key words.\n",
    "    for attri in attri_sound_lib:\n",
    "        if re.search(attri, label_text, re.IGNORECASE):\n",
    "            return attri_sound_lib[attri]"
   ]
  },
  {
   "cell_type": "code",
   "execution_count": 1,
   "metadata": {},
   "outputs": [],
   "source": [
    "def add_layer_directly(prev, curr):\n",
    "    # adding new layer of sound.\n",
    "    # Input: string prev, string curr;\n",
    "    # Output: updated.wav for the song.\n",
    "    base_layer = AudioSegment.from_wav(prev)\n",
    "    adding_layer = AudioSegment.from_wav(curr)\n",
    "    \n",
    "    if (len(base_layer) < len(adding_layer)): # Avoid chunking.\n",
    "        print('new audio too long')\n",
    "        adding_layer = adding_layer[:len(base_layer)/3]\n",
    "        \n",
    "    updated_layer = base_layer.overlay(adding_layer)\n",
    "    print('adding: {}'.format(curr))\n",
    "    updated_layer.export(\"updated.wav\", format = 'wav')\n",
    "    \n",
    "\n",
    "def add_beats(prev, curr, count):\n",
    "    base_layer = AudioSegment.from_wav(prev)\n",
    "    adding_layer = AudioSegment.from_wav(curr)\n",
    "    \n",
    "    updated_layer = base_layer.overlay(adding_layer, times = count)\n",
    "    print('adding: {}'.format(curr))\n",
    "    updated_layer.export(\"updated.wav\", format = 'wav')\n",
    "    \n",
    "\n",
    "def generating_collage(sound_list):\n",
    "    #Generating the final collage of sound using the global sound_list.\n",
    "    "
   ]
  },
  {
   "cell_type": "code",
   "execution_count": null,
   "metadata": {},
   "outputs": [],
   "source": [
    "def play_sound(file):\n",
    "    # Take in a file and play the music.\n",
    "    pg.mixer.music.load(file)\n",
    "    pg.mixer.music.play()"
   ]
  },
  {
   "cell_type": "code",
   "execution_count": null,
   "metadata": {},
   "outputs": [],
   "source": [
    "def execute(image):\n",
    "    # Need to decide.\n",
    "\n",
    "    label_text = get_string(image)\n",
    "    new_sound = pick_sound_by_item(label_text)\n",
    "    "
   ]
  },
  {
   "cell_type": "code",
   "execution_count": null,
   "metadata": {},
   "outputs": [],
   "source": []
  },
  {
   "cell_type": "code",
   "execution_count": 2,
   "metadata": {},
   "outputs": [],
   "source": [
    "# Todo: Sound Library.\n",
    "base_sound_lib = []\n",
    "\n",
    "item_sound_lib = {\"coke\":\"coke.wav\",\n",
    "            \"pen\":\"pen.wav\",\n",
    "            \"clock\":\"clock.wav\"}\n",
    "\n",
    "attri_sound_lib = {}\n",
    "\n",
    "drum_sound_lib = {}"
   ]
  },
  {
   "cell_type": "code",
   "execution_count": null,
   "metadata": {},
   "outputs": [],
   "source": [
    "def main():\n",
    "\n",
    "    camera = picamera.PiCamera()\n",
    "    pg.init()\n",
    "    pg.mixer.init()\n",
    "    \n",
    "    base_sound = random.choice(base_sound_lib) # Can be more complicated.\n",
    "    play_sound(base_sound) # A long one to wait for begin.\n",
    "    pring('waiting for begin')\n",
    "    \n",
    "    # ctrl+c to stop.\n",
    "    while True:\n",
    " \n",
    "        takephoto(camera) \n",
    "        \"\"\"Run a label request on a single image\"\"\"\n",
    "\n",
    "        with open('image.jpg', 'rb') as image_file:\n",
    "            #read the image file\n",
    "            content = image_file.read()\n",
    "            image = vision.types.Image(content=content)\n",
    "            \n",
    "            execute(image)\n",
    "            \n",
    "            time.sleep(0.1) # Play around with this.       \n",
    "        \n",
    "if __name__ == '__main__':\n",
    "        main()    "
   ]
  }
 ],
 "metadata": {
  "kernelspec": {
   "display_name": "Python 3",
   "language": "python",
   "name": "python3"
  },
  "language_info": {
   "codemirror_mode": {
    "name": "ipython",
    "version": 3
   },
   "file_extension": ".py",
   "mimetype": "text/x-python",
   "name": "python",
   "nbconvert_exporter": "python",
   "pygments_lexer": "ipython3",
   "version": "3.6.5"
  }
 },
 "nbformat": 4,
 "nbformat_minor": 2
}
