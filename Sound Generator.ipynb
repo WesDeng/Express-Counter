{
 "cells": [
  {
   "cell_type": "code",
   "execution_count": 1,
   "metadata": {},
   "outputs": [],
   "source": [
    "import time\n",
    "import signal\n",
    "import sys\n",
    "import re\n",
    "\n",
    "import random\n",
    "from pydub import AudioSegment"
   ]
  },
  {
   "cell_type": "markdown",
   "metadata": {},
   "source": [
    " **Sound Generating**\n",
    " \n",
    " Python notebook for creating suitable sound effect and music clips for Raspberry Pi 3B+ using \n",
    " <a href=\"https://github.com/jiaaro/pydub\">pydub</a>."
   ]
  },
  {
   "cell_type": "code",
   "execution_count": 2,
   "metadata": {},
   "outputs": [],
   "source": [
    "# Special beats\n",
    "def blank(s):\n",
    "    # Create special sound clips.\n",
    "    return AudioSegment.silent(duration= s*1000)"
   ]
  },
  {
   "cell_type": "code",
   "execution_count": 20,
   "metadata": {},
   "outputs": [],
   "source": [
    "test = blank(10)\n",
    "collage = blank(25)\n",
    "collage.export(\"collage.wav\", format = 'wav')\n",
    "\n",
    "\n",
    "sound_list = ['coke_.wav', 'carrot_.wav', 'garlic_.wav', 'apple_.wav', \n",
    "              'choco_.wav', 'pen_.wav', 'cheese_.wav', 'cookie_.wav', 'pasta_.wav','toilet_.wav', 'baby_.wav','hen_.wav']\n",
    "\n",
    "temp_list = ['coke_.wav', 'garlic_.wav', 'apple1_.wav', \n",
    "              'choco_.wav',  'cheese_.wav', 'pasta_.wav','water_.wav', 'baby_.wav','hen_.wav']"
   ]
  },
  {
   "cell_type": "code",
   "execution_count": 38,
   "metadata": {},
   "outputs": [],
   "source": [
    "# Helper functions.\n",
    "\n",
    "def add_layer_directly(prev, curr):\n",
    "    # adding new layer of sound.\n",
    "    # Input: string prev, string curr;\n",
    "    # Output: updated.wav for the song.\n",
    "    base_layer = AudioSegment.from_wav(prev)\n",
    "    adding_layer = AudioSegment.from_wav(curr)\n",
    "    \n",
    "    if (len(base_layer) < len(adding_layer)): # Avoid chunking.\n",
    "        print('new audio too long')\n",
    "        adding_layer = adding_layer[:len(base_layer)/3]\n",
    "        \n",
    "    updated_layer = base_layer.overlay(adding_layer)\n",
    "    print('adding: {}'.format(curr))\n",
    "    updated_layer.export(\"updated.wav\", format = 'wav')\n",
    "    \n",
    "\n",
    "def add_beats(prev, curr, n):\n",
    "    # adding chips n times.\n",
    "    base_layer = AudioSegment.from_wav(prev)\n",
    "    adding_layer = AudioSegment.from_wav(curr)\n",
    "    \n",
    "    updated_layer = base_layer.overlay(adding_layer, times = n)\n",
    "    print('adding: {}'.format(curr))\n",
    "    updated_layer.export(\"updated.wav\", format = 'wav')\n",
    "    \n",
    "\n",
    "def generate_collage(sound_list):\n",
    "    #Generating the final collage of sound using the global sound_list.\n",
    "    for file in sound_list:\n",
    "        curr = AudioSegment.from_wav(file)\n",
    "        new = collage.overlay(curr)\n",
    "        new.export('collage.wav', format = 'wav')"
   ]
  },
  {
   "cell_type": "code",
   "execution_count": 61,
   "metadata": {},
   "outputs": [],
   "source": [
    "# Transform file types. mp3 works fine too btw.\n",
    "def m4a_to_wav(file):\n",
    "    # Take in a string and transform to .wav file.\n",
    "    sound = AudioSegment.from_m4a(file + '.m4a')\n",
    "    sound.export(file + '.wav', format=\"wav\")\n",
    "    \n",
    "def mp3_to_wav(file):\n",
    "    sound = AudioSegment.from_mp3(file + '.mp3')\n",
    "    sound.export(file + '.wav', format=\"wav\")"
   ]
  },
  {
   "cell_type": "code",
   "execution_count": 51,
   "metadata": {},
   "outputs": [
    {
     "data": {
      "text/plain": [
       "<_io.BufferedRandom name='baby.wav'>"
      ]
     },
     "execution_count": 51,
     "metadata": {},
     "output_type": "execute_result"
    }
   ],
   "source": [
    "# Generating suitable sound effect for real-time detecting.\n",
    "\n",
    "Hen = (AudioSegment.from_wav(\"Hen.wav\")[:5000]+3)\n",
    "Hen.export('hen.wav', format = 'wav')\n",
    "Cow = AudioSegment.from_wav(\"Cow.wav\")[1000:6000]\n",
    "Cow.export('cheese.wav', format = 'wav')\n",
    "Frying = AudioSegment.from_wav(\"Frying.wav\")[:12000]\n",
    "Frying.export('garlic.wav', format = 'wav')\n",
    "Italian =  AudioSegment.from_wav(\"Italian.wav\")[79000:82000]\n",
    "Italian.export('pasta.wav', format = 'wav')\n",
    "water = AudioSegment.from_wav(\"Toilet.wav\")[:6000]\n",
    "water.export('water.wav', format = 'wav')\n",
    "apple_1 =  AudioSegment.from_wav(\"iPhone.wav\")[35000:39000]\n",
    "apple_1 = apple_1 * 3\n",
    "apple_1.export('apple1.wav', format = 'wav')\n",
    "choco = AudioSegment.from_wav(\"Choco.wav\")[1000:3000] + (AudioSegment.from_wav(\"Choco.wav\")[3000:7000] - 3)\n",
    "choco.export('choco.wav', format = 'wav')\n",
    "coke = AudioSegment.from_wav('coke.wav')*2\n",
    "coke.export('coke.wav', format = 'wav')\n",
    "baby = AudioSegment.from_wav('baby.wav')[:4000]\n",
    "baby.export('baby.wav', format = 'wav')"
   ]
  },
  {
   "cell_type": "markdown",
   "metadata": {},
   "source": [
    "**For collage and website demo**"
   ]
  },
  {
   "cell_type": "code",
   "execution_count": 33,
   "metadata": {},
   "outputs": [
    {
     "data": {
      "text/plain": [
       "<_io.BufferedRandom name='hen_.wav'>"
      ]
     },
     "execution_count": 33,
     "metadata": {},
     "output_type": "execute_result"
    }
   ],
   "source": [
    "Hen = blank(17) + (AudioSegment.from_wav(\"Hen.wav\")[:5000]+3)\n",
    "Hen.export('hen_.wav', format = 'wav')"
   ]
  },
  {
   "cell_type": "code",
   "execution_count": 30,
   "metadata": {},
   "outputs": [
    {
     "data": {
      "text/plain": [
       "<_io.BufferedRandom name='cheese_.wav'>"
      ]
     },
     "execution_count": 30,
     "metadata": {},
     "output_type": "execute_result"
    }
   ],
   "source": [
    "Cow = blank(8) + AudioSegment.from_wav(\"Cow.wav\")[1000:6000]\n",
    "Cow.export('cheese_.wav', format = 'wav')"
   ]
  },
  {
   "cell_type": "code",
   "execution_count": 48,
   "metadata": {},
   "outputs": [
    {
     "data": {
      "text/plain": [
       "<_io.BufferedRandom name='garlic_.wav'>"
      ]
     },
     "execution_count": 48,
     "metadata": {},
     "output_type": "execute_result"
    }
   ],
   "source": [
    "Frying = AudioSegment.from_wav(\"Frying.wav\")[:12000]\n",
    "Frying.export('garlic_.wav', format = 'wav')"
   ]
  },
  {
   "cell_type": "code",
   "execution_count": 11,
   "metadata": {},
   "outputs": [
    {
     "data": {
      "text/plain": [
       "<_io.BufferedRandom name='pasta_.wav'>"
      ]
     },
     "execution_count": 11,
     "metadata": {},
     "output_type": "execute_result"
    }
   ],
   "source": [
    "Italian = blank(4) + AudioSegment.from_wav(\"Italian.wav\")[79000:82000]\n",
    "Italian.export('pasta_.wav', format = 'wav')"
   ]
  },
  {
   "cell_type": "code",
   "execution_count": 12,
   "metadata": {},
   "outputs": [
    {
     "data": {
      "text/plain": [
       "<_io.BufferedRandom name='water_.wav'>"
      ]
     },
     "execution_count": 12,
     "metadata": {},
     "output_type": "execute_result"
    }
   ],
   "source": [
    "water = blank(12) + AudioSegment.from_wav(\"Toilet.wav\")[:6000]\n",
    "water.export('water_.wav', format = 'wav')"
   ]
  },
  {
   "cell_type": "code",
   "execution_count": 24,
   "metadata": {},
   "outputs": [
    {
     "data": {
      "text/plain": [
       "<_io.BufferedRandom name='apple1_.wav'>"
      ]
     },
     "execution_count": 24,
     "metadata": {},
     "output_type": "execute_result"
    }
   ],
   "source": [
    "apple_1 = blank(0.5) + AudioSegment.from_wav(\"iPhone.wav\")[35000:39000]\n",
    "apple_1 = apple_1 * 3\n",
    "apple_1.export('apple1_.wav', format = 'wav')"
   ]
  },
  {
   "cell_type": "code",
   "execution_count": 27,
   "metadata": {},
   "outputs": [
    {
     "data": {
      "text/plain": [
       "<_io.BufferedRandom name='choco_.wav'>"
      ]
     },
     "execution_count": 27,
     "metadata": {},
     "output_type": "execute_result"
    }
   ],
   "source": [
    "choco = blank(12) + AudioSegment.from_wav(\"Choco.wav\")[1000:3000] + (AudioSegment.from_wav(\"Choco.wav\")[3000:7000] - 3)\n",
    "choco.export('choco_.wav', format = 'wav')"
   ]
  },
  {
   "cell_type": "code",
   "execution_count": 35,
   "metadata": {},
   "outputs": [
    {
     "data": {
      "text/plain": [
       "<_io.BufferedRandom name='coke_.wav'>"
      ]
     },
     "execution_count": 35,
     "metadata": {},
     "output_type": "execute_result"
    }
   ],
   "source": [
    "coke = blank(9) + AudioSegment.from_wav('coke.wav')*2\n",
    "coke.export('coke_.wav', format = 'wav')"
   ]
  },
  {
   "cell_type": "code",
   "execution_count": 36,
   "metadata": {},
   "outputs": [
    {
     "data": {
      "text/plain": [
       "<_io.BufferedRandom name='baby_.wav'>"
      ]
     },
     "execution_count": 36,
     "metadata": {},
     "output_type": "execute_result"
    }
   ],
   "source": [
    "baby = blank(5) + AudioSegment.from_wav('baby.wav')[:4000]\n",
    "baby.export('baby_.wav', format = 'wav')"
   ]
  },
  {
   "cell_type": "code",
   "execution_count": 50,
   "metadata": {},
   "outputs": [
    {
     "data": {
      "text/plain": [
       "<_io.BufferedRandom name='test_.wav'>"
      ]
     },
     "execution_count": 50,
     "metadata": {},
     "output_type": "execute_result"
    }
   ],
   "source": [
    "# Generating overlay sound collage.\n",
    "f1 = collage.overlay(Frying)\n",
    "f1 = f1.overlay(Hen).overlay(Cow).overlay(Italian).overlay(water).overlay(apple_1).overlay(choco).overlay(coke).overlay(baby)\n",
    "f1.export('test_.wav', format = 'wav')"
   ]
  },
  {
   "cell_type": "code",
   "execution_count": 62,
   "metadata": {},
   "outputs": [
    {
     "data": {
      "text/plain": [
       "<_io.BufferedRandom name='key.wav'>"
      ]
     },
     "execution_count": 62,
     "metadata": {},
     "output_type": "execute_result"
    }
   ],
   "source": [
    "Key = AudioSegment.from_wav(\"Keyboard.wav\")+5\n",
    "Key.export(\"key.wav\", format = 'wav')"
   ]
  },
  {
   "cell_type": "code",
   "execution_count": 3,
   "metadata": {},
   "outputs": [
    {
     "data": {
      "text/plain": [
       "<_io.BufferedRandom name='cumcumber.wav'>"
      ]
     },
     "execution_count": 3,
     "metadata": {},
     "output_type": "execute_result"
    }
   ],
   "source": [
    "Cucumber = AudioSegment.from_wav(\"birds.wav\")[:10000]\n",
    "Cucumber.export('cumcumber.wav', format = 'wav')"
   ]
  },
  {
   "cell_type": "code",
   "execution_count": 10,
   "metadata": {},
   "outputs": [
    {
     "data": {
      "text/plain": [
       "<_io.BufferedRandom name='sawing.wav'>"
      ]
     },
     "execution_count": 10,
     "metadata": {},
     "output_type": "execute_result"
    }
   ],
   "source": [
    "Saw = AudioSegment.from_wav(\"Saw.wav\")[2000:6000].fade_out(2000)\n",
    "Saw.export('sawing.wav', format = 'wav')"
   ]
  },
  {
   "cell_type": "code",
   "execution_count": 16,
   "metadata": {},
   "outputs": [
    {
     "data": {
      "text/plain": [
       "<_io.BufferedRandom name='runningwater.wav'>"
      ]
     },
     "execution_count": 16,
     "metadata": {},
     "output_type": "execute_result"
    }
   ],
   "source": [
    "Water = AudioSegment.from_wav(\"Bath.wav\")[5000:14000].fade_out(2000)\n",
    "Water.export('runningwater.wav', format = 'wav')"
   ]
  },
  {
   "cell_type": "code",
   "execution_count": 14,
   "metadata": {},
   "outputs": [
    {
     "data": {
      "text/plain": [
       "<_io.BufferedRandom name='calling_ring.wav'>"
      ]
     },
     "execution_count": 14,
     "metadata": {},
     "output_type": "execute_result"
    }
   ],
   "source": [
    "Ring = AudioSegment.from_wav(\"Ring.wav\")[:5700]\n",
    "Ring.export('calling_ring.wav', format = 'wav')"
   ]
  },
  {
   "cell_type": "code",
   "execution_count": 3,
   "metadata": {},
   "outputs": [
    {
     "data": {
      "text/plain": [
       "<_io.BufferedRandom name='dreaming.wav'>"
      ]
     },
     "execution_count": 3,
     "metadata": {},
     "output_type": "execute_result"
    }
   ],
   "source": [
    "Dream = AudioSegment.from_wav(\"dreampop.wav\")[:12500].fade_out(1000)\n",
    "Dream.export('dreaming.wav', format = 'wav')"
   ]
  },
  {
   "cell_type": "code",
   "execution_count": 4,
   "metadata": {},
   "outputs": [
    {
     "data": {
      "text/plain": [
       "<_io.BufferedRandom name='lifetime.wav'>"
      ]
     },
     "execution_count": 4,
     "metadata": {},
     "output_type": "execute_result"
    }
   ],
   "source": [
    "Life = AudioSegment.from_wav(\"lifetime.wav\")[:14000].fade_out(1000)\n",
    "Life.export(\"lifetime.wav\", format = 'wav')"
   ]
  },
  {
   "cell_type": "code",
   "execution_count": 5,
   "metadata": {},
   "outputs": [
    {
     "data": {
      "text/plain": [
       "<_io.BufferedRandom name='drumy.wav'>"
      ]
     },
     "execution_count": 5,
     "metadata": {},
     "output_type": "execute_result"
    }
   ],
   "source": [
    "Drum = AudioSegment.from_wav(\"drumy.wav\")[:12000].fade_out(1000)\n",
    "Drum.export('drumy.wav', format = 'wav')"
   ]
  },
  {
   "cell_type": "code",
   "execution_count": 6,
   "metadata": {},
   "outputs": [
    {
     "data": {
      "text/plain": [
       "<_io.BufferedRandom name='flowers.wav'>"
      ]
     },
     "execution_count": 6,
     "metadata": {},
     "output_type": "execute_result"
    }
   ],
   "source": [
    "Flower = AudioSegment.from_wav(\"flowers.wav\")[:14000].fade_out(1000)\n",
    "Flower.export('flowers.wav', format = 'wav')"
   ]
  },
  {
   "cell_type": "code",
   "execution_count": 7,
   "metadata": {},
   "outputs": [
    {
     "data": {
      "text/plain": [
       "<_io.BufferedRandom name='game.wav'>"
      ]
     },
     "execution_count": 7,
     "metadata": {},
     "output_type": "execute_result"
    }
   ],
   "source": [
    "game = AudioSegment.from_wav(\"game.wav\").fade_in(5000).fade_out(1000)\n",
    "game.export('game.wav', format = 'wav')"
   ]
  },
  {
   "cell_type": "code",
   "execution_count": 8,
   "metadata": {},
   "outputs": [
    {
     "data": {
      "text/plain": [
       "<_io.BufferedRandom name='dreampop.wav'>"
      ]
     },
     "execution_count": 8,
     "metadata": {},
     "output_type": "execute_result"
    }
   ],
   "source": [
    "dream = AudioSegment.from_wav(\"dreampop.wav\")[:12000].fade_out(1000)\n",
    "dream.export('dreampop.wav', format = 'wav')"
   ]
  },
  {
   "cell_type": "code",
   "execution_count": 9,
   "metadata": {},
   "outputs": [],
   "source": [
    "life = AudioSegment.from_wav(\"lifetime.wav\")\n",
    "drum = AudioSegment.from_wav(\"drumy.wav\")\n",
    "flowers = AudioSegment.from_wav(\"flowers.wav\")\n",
    "game = AudioSegment.from_wav(\"game.wav\")\n",
    "dream = AudioSegment.from_wav(\"dream.wav\")"
   ]
  },
  {
   "cell_type": "code",
   "execution_count": 10,
   "metadata": {},
   "outputs": [
    {
     "data": {
      "text/plain": [
       "<_io.BufferedRandom name='game.wav'>"
      ]
     },
     "execution_count": 10,
     "metadata": {},
     "output_type": "execute_result"
    }
   ],
   "source": [
    "ambient = life + drum + flowers + game + drum + dream\n",
    "ambient.export('game.wav', format = 'wav')"
   ]
  },
  {
   "cell_type": "code",
   "execution_count": null,
   "metadata": {},
   "outputs": [],
   "source": []
  },
  {
   "cell_type": "code",
   "execution_count": 11,
   "metadata": {},
   "outputs": [
    {
     "data": {
      "text/plain": [
       "<_io.BufferedRandom name='summer.wav'>"
      ]
     },
     "execution_count": 11,
     "metadata": {},
     "output_type": "execute_result"
    }
   ],
   "source": [
    "summer = AudioSegment.from_wav(\"summer.wav\").fade_out(1000)\n",
    "summer.export('summer.wav', format = 'wav')"
   ]
  },
  {
   "cell_type": "code",
   "execution_count": null,
   "metadata": {},
   "outputs": [],
   "source": []
  }
 ],
 "metadata": {
  "kernelspec": {
   "display_name": "Python 3",
   "language": "python",
   "name": "python3"
  },
  "language_info": {
   "codemirror_mode": {
    "name": "ipython",
    "version": 3
   },
   "file_extension": ".py",
   "mimetype": "text/x-python",
   "name": "python",
   "nbconvert_exporter": "python",
   "pygments_lexer": "ipython3",
   "version": "3.6.5"
  }
 },
 "nbformat": 4,
 "nbformat_minor": 2
}
