{
 "cells": [
  {
   "cell_type": "code",
   "execution_count": 1,
   "metadata": {},
   "outputs": [],
   "source": [
    "import time\n",
    "import signal\n",
    "import sys\n",
    "import re\n",
    "\n",
    "import random\n",
    "from pydub import AudioSegment"
   ]
  },
  {
   "cell_type": "code",
   "execution_count": 4,
   "metadata": {},
   "outputs": [],
   "source": [
    "# Special beats\n",
    "def blank(s):\n",
    "    # Create special sound clips.\n",
    "    return AudioSegment.silent(duration= s*1000)"
   ]
  },
  {
   "cell_type": "code",
   "execution_count": null,
   "metadata": {},
   "outputs": [],
   "source": [
    "collage = \"collage.wav\""
   ]
  },
  {
   "cell_type": "code",
   "execution_count": 3,
   "metadata": {},
   "outputs": [],
   "source": [
    "def add_layer_directly(prev, curr):\n",
    "    # adding new layer of sound.\n",
    "    # Input: string prev, string curr;\n",
    "    # Output: updated.wav for the song.\n",
    "    base_layer = AudioSegment.from_wav(prev)\n",
    "    adding_layer = AudioSegment.from_wav(curr)\n",
    "    \n",
    "    if (len(base_layer) < len(adding_layer)): # Avoid chunking.\n",
    "        print('new audio too long')\n",
    "        adding_layer = adding_layer[:len(base_layer)/3]\n",
    "        \n",
    "    updated_layer = base_layer.overlay(adding_layer)\n",
    "    print('adding: {}'.format(curr))\n",
    "    updated_layer.export(\"updated.wav\", format = 'wav')\n",
    "    \n",
    "\n",
    "def add_beats(prev, curr, count):\n",
    "    # adding things \n",
    "    base_layer = AudioSegment.from_wav(prev)\n",
    "    adding_layer = AudioSegment.from_wav(curr)\n",
    "    \n",
    "    updated_layer = base_layer.overlay(adding_layer, times = count)\n",
    "    print('adding: {}'.format(curr))\n",
    "    updated_layer.export(\"updated.wav\", format = 'wav')\n",
    "    \n",
    "\n",
    "def generate_collage(sound_list):\n",
    "    #Generating the final collage of sound using the global sound_list.\n",
    "    for file in sound_list:\n",
    "        curr = AudioSegment.from_wav(file)\n",
    "        new = collage.overlay(curr)\n",
    "        new.export('collage.wav', format = 'wav')"
   ]
  },
  {
   "cell_type": "code",
   "execution_count": null,
   "metadata": {},
   "outputs": [],
   "source": []
  }
 ],
 "metadata": {
  "kernelspec": {
   "display_name": "Python 3",
   "language": "python",
   "name": "python3"
  },
  "language_info": {
   "codemirror_mode": {
    "name": "ipython",
    "version": 3
   },
   "file_extension": ".py",
   "mimetype": "text/x-python",
   "name": "python",
   "nbconvert_exporter": "python",
   "pygments_lexer": "ipython3",
   "version": "3.6.5"
  }
 },
 "nbformat": 4,
 "nbformat_minor": 2
}
